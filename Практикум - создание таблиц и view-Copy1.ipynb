{
 "cells": [
  {
   "cell_type": "markdown",
   "metadata": {},
   "source": [
    "# Семинар - создание и наполнение таблиц \n",
    "\n",
    "## Работа с python и с Metabase\n",
    "\n",
    "### Что мы делаем: \n",
    "###### 1. Мы учимся подключаться к Metabase через его API c помощью библиотеки METABASEPY\n",
    "###### 2. Мы создадим маленькую локальную БД на базе движка SQLite. Наши права не позволяют создавать таблицы и представления непосредственно в Metabase, но в своей локальной БД мы имеем полное право делать все, что нам захочется без ограничений! :) \n",
    "###### 3. Мы попробуем запускать запросы через Metabasepy, отдавать результат в Pandas Dataframe\n",
    "###### 4. Наконец, мы попробуем сохранить данные из Pandas Dataframe в виде INSERT\n",
    "###### "
   ]
  },
  {
   "cell_type": "markdown",
   "metadata": {},
   "source": [
    "### Шаг 0. Подготовка к работе (наш инструментарий)"
   ]
  },
  {
   "cell_type": "markdown",
   "metadata": {},
   "source": [
    "### Шаг 0.1 Установка Metabasepy\n",
    "\n",
    "##### - Нам надо установить библиотеку Metabasepy и подключиться c с ее помощью к БД через Metabase"
   ]
  },
  {
   "cell_type": "code",
   "execution_count": 1,
   "metadata": {
    "scrolled": false
   },
   "outputs": [
    {
     "name": "stdout",
     "output_type": "stream",
     "text": [
      "Requirement already satisfied: metabasepy in e:\\anaconda\\lib\\site-packages (1.9.0)\n"
     ]
    }
   ],
   "source": [
    "!pip install metabasepy"
   ]
  },
  {
   "cell_type": "markdown",
   "metadata": {},
   "source": [
    "### Инициализация подключения metabasepy к нашей БД"
   ]
  },
  {
   "cell_type": "code",
   "execution_count": 2,
   "metadata": {},
   "outputs": [],
   "source": [
    "from metabasepy import Client, MetabaseTableParser\n",
    "\n",
    "cli = Client(\n",
    "                username=\"demo10@skillfactory.ru\", # тот самый, который вам выдали\n",
    "                password=\"t9vQJlErQ9WcMi\", # и пароль к нему!\n",
    "                base_url=\"http://sql.skillfactory.ru:3000\"\n",
    "      )\n",
    "\n",
    "cli.authenticate()"
   ]
  },
  {
   "cell_type": "markdown",
   "metadata": {},
   "source": [
    "### Шаг 0.2 Как нам найти нужную БД (Skillfactory)?\n",
    "\n",
    "##### - Смотрим, какие БД нам доступны: нас интересует  параметр Id БД, он потребуется для подключения "
   ]
  },
  {
   "cell_type": "code",
   "execution_count": 3,
   "metadata": {
    "scrolled": true
   },
   "outputs": [
    {
     "data": {
      "text/plain": [
       "{'data': [{'description': None,\n",
       "   'features': ['full-join',\n",
       "    'basic-aggregations',\n",
       "    'nested-field-columns',\n",
       "    'standard-deviation-aggregations',\n",
       "    'persist-models',\n",
       "    'expression-aggregations',\n",
       "    'percentile-aggregations',\n",
       "    'foreign-keys',\n",
       "    'right-join',\n",
       "    'left-join',\n",
       "    'native-parameters',\n",
       "    'nested-queries',\n",
       "    'expressions',\n",
       "    'set-timezone',\n",
       "    'regex',\n",
       "    'case-sensitivity-string-filter-options',\n",
       "    'binning',\n",
       "    'inner-join',\n",
       "    'advanced-math-expressions'],\n",
       "   'cache_field_values_schedule': '0 0 18 * * ? *',\n",
       "   'timezone': 'UTC',\n",
       "   'auto_run_queries': True,\n",
       "   'metadata_sync_schedule': '0 53 * * * ? *',\n",
       "   'name': 'project_sql',\n",
       "   'caveats': None,\n",
       "   'creator_id': 1,\n",
       "   'is_full_sync': True,\n",
       "   'updated_at': '2022-10-27T11:31:25.513',\n",
       "   'native_permissions': 'write',\n",
       "   'cache_ttl': None,\n",
       "   'is_sample': False,\n",
       "   'id': 3,\n",
       "   'is_on_demand': False,\n",
       "   'options': None,\n",
       "   'engine': 'postgres',\n",
       "   'initial_sync_status': 'complete',\n",
       "   'refingerprint': None,\n",
       "   'created_at': '2022-10-27T11:31:24.876',\n",
       "   'points_of_interest': None},\n",
       "  {'description': 'Some example data for you to play around with as you embark on your Metabase journey.',\n",
       "   'features': ['basic-aggregations',\n",
       "    'standard-deviation-aggregations',\n",
       "    'expression-aggregations',\n",
       "    'foreign-keys',\n",
       "    'right-join',\n",
       "    'left-join',\n",
       "    'native-parameters',\n",
       "    'nested-queries',\n",
       "    'expressions',\n",
       "    'case-sensitivity-string-filter-options',\n",
       "    'binning',\n",
       "    'inner-join',\n",
       "    'advanced-math-expressions'],\n",
       "   'cache_field_values_schedule': '0 0 12 * * ? *',\n",
       "   'timezone': 'UTC',\n",
       "   'auto_run_queries': True,\n",
       "   'metadata_sync_schedule': '0 43 * * * ? *',\n",
       "   'name': 'Sample Database',\n",
       "   'caveats': \"You probably don't want to use this for your business-critical analyses, but hey, it's your world, we're just living in it.\",\n",
       "   'creator_id': None,\n",
       "   'is_full_sync': True,\n",
       "   'updated_at': '2023-02-25T12:43:00.061',\n",
       "   'native_permissions': 'write',\n",
       "   'cache_ttl': None,\n",
       "   'is_sample': True,\n",
       "   'id': 1,\n",
       "   'is_on_demand': False,\n",
       "   'options': None,\n",
       "   'engine': 'h2',\n",
       "   'initial_sync_status': 'complete',\n",
       "   'refingerprint': None,\n",
       "   'created_at': '2022-10-26T17:17:39.829',\n",
       "   'points_of_interest': 'You can find all sorts of different joinable tables ranging from products to people to reviews here.'},\n",
       "  {'description': None,\n",
       "   'features': ['full-join',\n",
       "    'basic-aggregations',\n",
       "    'nested-field-columns',\n",
       "    'standard-deviation-aggregations',\n",
       "    'persist-models',\n",
       "    'expression-aggregations',\n",
       "    'percentile-aggregations',\n",
       "    'foreign-keys',\n",
       "    'right-join',\n",
       "    'left-join',\n",
       "    'native-parameters',\n",
       "    'nested-queries',\n",
       "    'expressions',\n",
       "    'set-timezone',\n",
       "    'regex',\n",
       "    'case-sensitivity-string-filter-options',\n",
       "    'binning',\n",
       "    'inner-join',\n",
       "    'advanced-math-expressions'],\n",
       "   'cache_field_values_schedule': '0 0 18 * * ? *',\n",
       "   'timezone': 'UTC',\n",
       "   'auto_run_queries': True,\n",
       "   'metadata_sync_schedule': '0 59 * * * ? *',\n",
       "   'name': 'Skillfactory',\n",
       "   'caveats': None,\n",
       "   'creator_id': 1,\n",
       "   'is_full_sync': True,\n",
       "   'updated_at': '2022-11-21T14:26:15.403',\n",
       "   'native_permissions': 'write',\n",
       "   'cache_ttl': None,\n",
       "   'is_sample': False,\n",
       "   'id': 2,\n",
       "   'is_on_demand': False,\n",
       "   'options': None,\n",
       "   'engine': 'postgres',\n",
       "   'initial_sync_status': 'complete',\n",
       "   'refingerprint': None,\n",
       "   'created_at': '2022-10-26T17:20:29.316',\n",
       "   'points_of_interest': None}],\n",
       " 'total': 3}"
      ]
     },
     "execution_count": 3,
     "metadata": {},
     "output_type": "execute_result"
    }
   ],
   "source": [
    "cli.databases.get()"
   ]
  },
  {
   "cell_type": "markdown",
   "metadata": {},
   "source": [
    "### Шаг 0.3 Тестовый запрос, чтобы убедиться, что мы подключились к metabase \n",
    "\n",
    "##### - Теперь, зная, что наша БД имеет id=2, можем подклюлчаться и давать запросы в БД."
   ]
  },
  {
   "cell_type": "code",
   "execution_count": 7,
   "metadata": {
    "scrolled": false
   },
   "outputs": [
    {
     "data": {
      "text/plain": [
       "[[1000, 3660, 3528.0, 1, 23, 137, '2016-01-08T00:00:00Z'],\n",
       " [1001, 2001, 11394.0, 2, 23, 186, '2016-01-18T00:00:00Z'],\n",
       " [1002, 1669, 8712.0, 3, 27, 268, '2016-01-19T00:00:00Z'],\n",
       " [1003, 989, 17154.0, 4, 23, 365, '2016-01-24T00:00:00Z'],\n",
       " [1004, 2298, 9279.0, 5, 27, 253, '2016-01-26T00:00:00Z']]"
      ]
     },
     "execution_count": 7,
     "metadata": {},
     "output_type": "execute_result"
    }
   ],
   "source": [
    "# Таблица SHIPMENT\n",
    "# апрос всех полей без условий\n",
    "\n",
    "shipment_sql =    \"\"\"\n",
    "                    SELECT \n",
    "                        ship_id, \n",
    "                        cust_id,\n",
    "                        weight,\n",
    "                        truck_id,\n",
    "                        driver_id,\n",
    "                        city_id,\n",
    "                        ship_date               \n",
    "                    FROM \n",
    "                        shipping.shipment \n",
    "                    WHERE \n",
    "                        1=1\n",
    "\n",
    "                 ;\"\"\"\n",
    "\n",
    "# заготовка шапки для DATAFRAME!\n",
    "shipment_header = ['ship_id','cust_id','weight', 'truck_id', 'driver_id','city_id','ship_date']\n",
    "books_header = ['book_name', 'author','language_code','author_rating', 'book_average_rating', 'book_ratings_count', 'genre',\n",
    "                'publisher','book_id']\n",
    "\n",
    "query_response = cli.dataset.post(database_id=2, query=shipment_sql)\n",
    "\n",
    "data_table = MetabaseTableParser.get_table(metabase_response=query_response)\n",
    "\n",
    "data_table.rows[0:5]\n"
   ]
  },
  {
   "cell_type": "markdown",
   "metadata": {},
   "source": [
    "### Из-за подлого характера Metabasepy мы сами должны позаботиться о том, чтобы колонки отображались с шапкой. Для этого у нас был заготовлен в Шаге 0 (часть 2) массив с именами колонок. И сейчас мы превратим все в красиво отображающийся DataFrame. \n",
    "### P.S. Названия колонок можно найти в Шаге 0 (часть 2) для всех таблиц БД shipment"
   ]
  },
  {
   "cell_type": "code",
   "execution_count": 8,
   "metadata": {
    "scrolled": true
   },
   "outputs": [
    {
     "data": {
      "text/html": [
       "<div>\n",
       "<style scoped>\n",
       "    .dataframe tbody tr th:only-of-type {\n",
       "        vertical-align: middle;\n",
       "    }\n",
       "\n",
       "    .dataframe tbody tr th {\n",
       "        vertical-align: top;\n",
       "    }\n",
       "\n",
       "    .dataframe thead th {\n",
       "        text-align: right;\n",
       "    }\n",
       "</style>\n",
       "<table border=\"1\" class=\"dataframe\">\n",
       "  <thead>\n",
       "    <tr style=\"text-align: right;\">\n",
       "      <th></th>\n",
       "      <th>ship_id</th>\n",
       "      <th>cust_id</th>\n",
       "      <th>weight</th>\n",
       "      <th>truck_id</th>\n",
       "      <th>driver_id</th>\n",
       "      <th>city_id</th>\n",
       "      <th>ship_date</th>\n",
       "    </tr>\n",
       "  </thead>\n",
       "  <tbody>\n",
       "    <tr>\n",
       "      <th>0</th>\n",
       "      <td>1000</td>\n",
       "      <td>3660</td>\n",
       "      <td>3528.0</td>\n",
       "      <td>1</td>\n",
       "      <td>23</td>\n",
       "      <td>137</td>\n",
       "      <td>2016-01-08T00:00:00Z</td>\n",
       "    </tr>\n",
       "    <tr>\n",
       "      <th>1</th>\n",
       "      <td>1001</td>\n",
       "      <td>2001</td>\n",
       "      <td>11394.0</td>\n",
       "      <td>2</td>\n",
       "      <td>23</td>\n",
       "      <td>186</td>\n",
       "      <td>2016-01-18T00:00:00Z</td>\n",
       "    </tr>\n",
       "    <tr>\n",
       "      <th>2</th>\n",
       "      <td>1002</td>\n",
       "      <td>1669</td>\n",
       "      <td>8712.0</td>\n",
       "      <td>3</td>\n",
       "      <td>27</td>\n",
       "      <td>268</td>\n",
       "      <td>2016-01-19T00:00:00Z</td>\n",
       "    </tr>\n",
       "    <tr>\n",
       "      <th>3</th>\n",
       "      <td>1003</td>\n",
       "      <td>989</td>\n",
       "      <td>17154.0</td>\n",
       "      <td>4</td>\n",
       "      <td>23</td>\n",
       "      <td>365</td>\n",
       "      <td>2016-01-24T00:00:00Z</td>\n",
       "    </tr>\n",
       "    <tr>\n",
       "      <th>4</th>\n",
       "      <td>1004</td>\n",
       "      <td>2298</td>\n",
       "      <td>9279.0</td>\n",
       "      <td>5</td>\n",
       "      <td>27</td>\n",
       "      <td>253</td>\n",
       "      <td>2016-01-26T00:00:00Z</td>\n",
       "    </tr>\n",
       "  </tbody>\n",
       "</table>\n",
       "</div>"
      ],
      "text/plain": [
       "   ship_id  cust_id   weight  truck_id  driver_id  city_id  \\\n",
       "0     1000     3660   3528.0         1         23      137   \n",
       "1     1001     2001  11394.0         2         23      186   \n",
       "2     1002     1669   8712.0         3         27      268   \n",
       "3     1003      989  17154.0         4         23      365   \n",
       "4     1004     2298   9279.0         5         27      253   \n",
       "\n",
       "              ship_date  \n",
       "0  2016-01-08T00:00:00Z  \n",
       "1  2016-01-18T00:00:00Z  \n",
       "2  2016-01-19T00:00:00Z  \n",
       "3  2016-01-24T00:00:00Z  \n",
       "4  2016-01-26T00:00:00Z  "
      ]
     },
     "execution_count": 8,
     "metadata": {},
     "output_type": "execute_result"
    }
   ],
   "source": [
    "import pandas as pd\n",
    "shipment = pd.DataFrame(data_table.rows)\n",
    "shipment.columns = shipment_header\n",
    "shipment[0:5]"
   ]
  },
  {
   "cell_type": "markdown",
   "metadata": {},
   "source": [
    "### Шаг 0.4. Инициализируем SQLite3 и создаем файл БД, нашего \"подопытного кролика\""
   ]
  },
  {
   "cell_type": "code",
   "execution_count": 12,
   "metadata": {},
   "outputs": [],
   "source": [
    "import sqlite3\n",
    "con = sqlite3.connect(\"d:/data/tutorial.db\") #разумеется, тут вам надо указать свой путь к файлу!\n",
    "\n"
   ]
  },
  {
   "cell_type": "code",
   "execution_count": 19,
   "metadata": {},
   "outputs": [
    {
     "data": {
      "text/plain": [
       "[('my_test',), ('my_test2',), ('my_test3',), ('my_test4',)]"
      ]
     },
     "execution_count": 19,
     "metadata": {},
     "output_type": "execute_result"
    }
   ],
   "source": [
    "#пример создания таблицы\n",
    "\n",
    "sqlite_create_table = \"\"\"create table my_test4 (\n",
    "                        id int,\n",
    "                        test_name varchar(1000),\n",
    "                        test_score decimal(5,2),\n",
    "                        created_on timestamp                        \n",
    "                                        );\"\"\"\n",
    "sqlite_create_view = \"\"\"\n",
    "                    create view my_view as select * from my_test;\n",
    "\"\"\"\n",
    "\n",
    "cur = con.cursor()\n",
    "cur.execute(sqlite_query)\n",
    "res = cur.execute(\"SELECT name FROM sqlite_master where name like 'my_test%'\")\n",
    "res.fetchall()"
   ]
  },
  {
   "cell_type": "markdown",
   "metadata": {},
   "source": [
    "### Шаг 0.5. Вставка данных в таблицы\n"
   ]
  },
  {
   "cell_type": "code",
   "execution_count": null,
   "metadata": {},
   "outputs": [],
   "source": [
    "sqlite_insert = \"\"\"\n",
    "                    insert into my_test(test_name. test_score, created_on)\n",
    "                    values ('my first insert test', 4.1, Today())\n",
    "\"\"\""
   ]
  },
  {
   "cell_type": "markdown",
   "metadata": {},
   "source": [
    "### Важный пример: а вот так мы можем из массива строк вносить данные с подстановкой значений в запросе. (Почти) так и работает Airflow, с которым мы познакомимся в следующем модуле."
   ]
  },
  {
   "cell_type": "code",
   "execution_count": null,
   "metadata": {},
   "outputs": [],
   "source": [
    "\n",
    "\n",
    "# data = [\n",
    "#    (\"Monty Python Live at the Hollywood Bowl\", 1982, 7.9),\n",
    "#    (\"Monty Python's The Meaning of Life\", 1983, 7.5),\n",
    "#    (\"Monty Python's Life of Brian\", 1979, 8.0),\n",
    "# ]\n",
    "# cur.executemany(\"INSERT INTO movie VALUES(?, ?, ?)\", data)\n",
    "# con.commit()  # Remember to commit the transaction after executing INSERT."
   ]
  },
  {
   "cell_type": "markdown",
   "metadata": {},
   "source": [
    "### А теперь наши задания (шаги 1-3)."
   ]
  },
  {
   "cell_type": "code",
   "execution_count": null,
   "metadata": {},
   "outputs": [],
   "source": [
    "# 1. Мы хотим перенести целиком таблицу books из Metabase в нашу тестовую базу данных sqlite. Повторять типы данных \n",
    "#    НЕ обязательно, но постарайтесь сохранить хотя бы, чтобы дата была датой, а цифра - цифрой (касается и ID).\n",
    "#    Решением будет показ запрос к таблице и показ ее содержимого с названием столбцов через PANDAS"
   ]
  },
  {
   "cell_type": "code",
   "execution_count": null,
   "metadata": {},
   "outputs": [],
   "source": [
    "# 2. Мы хотим на нашей локальной БД создать view с запросом, который будет работать с нашей новой локальной таблицей books \n",
    "# и будет выдавать:\n",
    "# - имя автора, \n",
    "# - количество его изданных книг,\n",
    "# - год издания его последней книги\n",
    "# - число жанров, в которых автор пишет (или писал)\n",
    "# - количество издательств, публиковавших автора\n",
    "\n",
    "# - решением будет считаться показ результата SELECT из вашего VIEW."
   ]
  }
 ],
 "metadata": {
  "kernelspec": {
   "display_name": "Python 3",
   "language": "python",
   "name": "python3"
  },
  "language_info": {
   "codemirror_mode": {
    "name": "ipython",
    "version": 3
   },
   "file_extension": ".py",
   "mimetype": "text/x-python",
   "name": "python",
   "nbconvert_exporter": "python",
   "pygments_lexer": "ipython3",
   "version": "3.8.5"
  }
 },
 "nbformat": 4,
 "nbformat_minor": 2
}

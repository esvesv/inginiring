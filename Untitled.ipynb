{
 "cells": [
  {
   "cell_type": "code",
   "execution_count": 16,
   "id": "deb2acaf",
   "metadata": {
    "scrolled": true
   },
   "outputs": [],
   "source": [
    "from metabasepy import Client, MetabaseTableParser\n",
    "import sqlite3"
   ]
  },
  {
   "cell_type": "markdown",
   "id": "dc355f39",
   "metadata": {},
   "source": [
    "Подключение к Metabase"
   ]
  },
  {
   "cell_type": "code",
   "execution_count": 17,
   "id": "8b1e740d",
   "metadata": {},
   "outputs": [],
   "source": [
    "cli = Client(\n",
    "#                 username=\"demo10@skillfactory.ru\", # тот самый, который вам выдали\n",
    "                username='demo@skillfactory.ru',\n",
    "#                 password=\"t9vQJlErQ9WcMi\", # и пароль к нему!\n",
    "                password=\"k0SZ4kEUasr0Fb\", # и пароль к нему!\n",
    "                base_url=\"http://sql.skillfactory.ru:3000\"\n",
    "      )\n",
    "\n",
    "cli.authenticate()"
   ]
  },
  {
   "cell_type": "markdown",
   "id": "11bfdb95",
   "metadata": {},
   "source": [
    "Доступные базы, нас интересует id базы Skillfactory."
   ]
  },
  {
   "cell_type": "code",
   "execution_count": 11,
   "id": "59482b21",
   "metadata": {},
   "outputs": [],
   "source": [
    "asd = cli.databases.get()"
   ]
  },
  {
   "cell_type": "code",
   "execution_count": 4,
   "id": "bf994d27",
   "metadata": {},
   "outputs": [
    {
     "data": {
      "text/plain": [
       "{'data': [{'description': None,\n",
       "   'features': ['full-join',\n",
       "    'basic-aggregations',\n",
       "    'nested-field-columns',\n",
       "    'standard-deviation-aggregations',\n",
       "    'persist-models',\n",
       "    'expression-aggregations',\n",
       "    'percentile-aggregations',\n",
       "    'foreign-keys',\n",
       "    'right-join',\n",
       "    'left-join',\n",
       "    'native-parameters',\n",
       "    'nested-queries',\n",
       "    'expressions',\n",
       "    'set-timezone',\n",
       "    'regex',\n",
       "    'case-sensitivity-string-filter-options',\n",
       "    'binning',\n",
       "    'inner-join',\n",
       "    'advanced-math-expressions'],\n",
       "   'cache_field_values_schedule': '0 0 18 * * ? *',\n",
       "   'timezone': 'UTC',\n",
       "   'auto_run_queries': True,\n",
       "   'metadata_sync_schedule': '0 53 * * * ? *',\n",
       "   'name': 'project_sql',\n",
       "   'caveats': None,\n",
       "   'creator_id': 1,\n",
       "   'is_full_sync': True,\n",
       "   'updated_at': '2022-10-27T11:31:25.513',\n",
       "   'native_permissions': 'write',\n",
       "   'cache_ttl': None,\n",
       "   'is_sample': False,\n",
       "   'id': 3,\n",
       "   'is_on_demand': False,\n",
       "   'options': None,\n",
       "   'engine': 'postgres',\n",
       "   'initial_sync_status': 'complete',\n",
       "   'refingerprint': None,\n",
       "   'created_at': '2022-10-27T11:31:24.876',\n",
       "   'points_of_interest': None},\n",
       "  {'description': 'Some example data for you to play around with as you embark on your Metabase journey.',\n",
       "   'features': ['basic-aggregations',\n",
       "    'standard-deviation-aggregations',\n",
       "    'expression-aggregations',\n",
       "    'foreign-keys',\n",
       "    'right-join',\n",
       "    'left-join',\n",
       "    'native-parameters',\n",
       "    'nested-queries',\n",
       "    'expressions',\n",
       "    'case-sensitivity-string-filter-options',\n",
       "    'binning',\n",
       "    'inner-join',\n",
       "    'advanced-math-expressions'],\n",
       "   'cache_field_values_schedule': '0 0 12 * * ? *',\n",
       "   'timezone': 'UTC',\n",
       "   'auto_run_queries': True,\n",
       "   'metadata_sync_schedule': '0 43 * * * ? *',\n",
       "   'name': 'Sample Database',\n",
       "   'caveats': \"You probably don't want to use this for your business-critical analyses, but hey, it's your world, we're just living in it.\",\n",
       "   'creator_id': None,\n",
       "   'is_full_sync': True,\n",
       "   'updated_at': '2023-03-03T02:43:00.066',\n",
       "   'native_permissions': 'write',\n",
       "   'cache_ttl': None,\n",
       "   'is_sample': True,\n",
       "   'id': 1,\n",
       "   'is_on_demand': False,\n",
       "   'options': None,\n",
       "   'engine': 'h2',\n",
       "   'initial_sync_status': 'complete',\n",
       "   'refingerprint': None,\n",
       "   'created_at': '2022-10-26T17:17:39.829',\n",
       "   'points_of_interest': 'You can find all sorts of different joinable tables ranging from products to people to reviews here.'},\n",
       "  {'description': None,\n",
       "   'features': ['full-join',\n",
       "    'basic-aggregations',\n",
       "    'nested-field-columns',\n",
       "    'standard-deviation-aggregations',\n",
       "    'persist-models',\n",
       "    'expression-aggregations',\n",
       "    'percentile-aggregations',\n",
       "    'foreign-keys',\n",
       "    'right-join',\n",
       "    'left-join',\n",
       "    'native-parameters',\n",
       "    'nested-queries',\n",
       "    'expressions',\n",
       "    'set-timezone',\n",
       "    'regex',\n",
       "    'case-sensitivity-string-filter-options',\n",
       "    'binning',\n",
       "    'inner-join',\n",
       "    'advanced-math-expressions'],\n",
       "   'cache_field_values_schedule': '0 0 18 * * ? *',\n",
       "   'timezone': 'UTC',\n",
       "   'auto_run_queries': True,\n",
       "   'metadata_sync_schedule': '0 59 * * * ? *',\n",
       "   'name': 'Skillfactory',\n",
       "   'caveats': None,\n",
       "   'creator_id': 1,\n",
       "   'is_full_sync': True,\n",
       "   'updated_at': '2022-11-21T14:26:15.403',\n",
       "   'native_permissions': 'write',\n",
       "   'cache_ttl': None,\n",
       "   'is_sample': False,\n",
       "   'id': 2,\n",
       "   'is_on_demand': False,\n",
       "   'options': None,\n",
       "   'engine': 'postgres',\n",
       "   'initial_sync_status': 'complete',\n",
       "   'refingerprint': None,\n",
       "   'created_at': '2022-10-26T17:20:29.316',\n",
       "   'points_of_interest': None}],\n",
       " 'total': 3}"
      ]
     },
     "execution_count": 4,
     "metadata": {},
     "output_type": "execute_result"
    }
   ],
   "source": [
    "asd"
   ]
  },
  {
   "cell_type": "markdown",
   "id": "4e1385e3",
   "metadata": {},
   "source": [
    "список таблиц схемы Shipping"
   ]
  },
  {
   "cell_type": "code",
   "execution_count": 29,
   "id": "92e47f0c",
   "metadata": {},
   "outputs": [],
   "source": [
    "list_tables = '''SELECT table_name FROM information_schema.tables\n",
    "                WHERE table_schema NOT IN ('information_schema', 'pg_catalog')\n",
    "                AND table_schema IN('sql');\n",
    "'''"
   ]
  },
  {
   "cell_type": "code",
   "execution_count": 30,
   "id": "fe4ef7e7",
   "metadata": {},
   "outputs": [],
   "source": [
    "tables_response = cli.dataset.post(database_id=2, query=list_tables)\n",
    "\n",
    "tables_list = [col[0] for col in MetabaseTableParser.get_table(metabase_response=tables_response).rows]"
   ]
  },
  {
   "cell_type": "code",
   "execution_count": 31,
   "id": "42b9bc4c",
   "metadata": {},
   "outputs": [
    {
     "data": {
      "text/plain": [
       "['temp',\n",
       " 'store_carts',\n",
       " 'vgsales',\n",
       " 'store_delivery',\n",
       " 'store_products',\n",
       " 'store_customers',\n",
       " 'kinopoisk',\n",
       " 'pokemon',\n",
       " 'teams',\n",
       " 'players',\n",
       " 'matches',\n",
       " 'coffeeshop_custs',\n",
       " 'coffeeshop_products',\n",
       " 'safe',\n",
       " 'truck',\n",
       " 'city',\n",
       " 'coffeeshop_sales',\n",
       " 'customer',\n",
       " 'driver',\n",
       " 'shipment']"
      ]
     },
     "execution_count": 31,
     "metadata": {},
     "output_type": "execute_result"
    }
   ],
   "source": [
    "tables_list"
   ]
  },
  {
   "cell_type": "code",
   "execution_count": 32,
   "id": "30ea3171",
   "metadata": {},
   "outputs": [
    {
     "name": "stdout",
     "output_type": "stream",
     "text": [
      "SELECT * FROM sql.temp WHERE 1=1;\n",
      "SELECT * FROM sql.store_carts WHERE 1=1;\n",
      "SELECT * FROM sql.vgsales WHERE 1=1;\n",
      "SELECT * FROM sql.store_delivery WHERE 1=1;\n",
      "SELECT * FROM sql.store_products WHERE 1=1;\n",
      "SELECT * FROM sql.store_customers WHERE 1=1;\n",
      "SELECT * FROM sql.kinopoisk WHERE 1=1;\n",
      "SELECT * FROM sql.pokemon WHERE 1=1;\n",
      "SELECT * FROM sql.teams WHERE 1=1;\n",
      "SELECT * FROM sql.players WHERE 1=1;\n",
      "SELECT * FROM sql.matches WHERE 1=1;\n",
      "SELECT * FROM sql.coffeeshop_custs WHERE 1=1;\n",
      "SELECT * FROM sql.coffeeshop_products WHERE 1=1;\n",
      "SELECT * FROM sql.safe WHERE 1=1;\n",
      "SELECT * FROM sql.truck WHERE 1=1;\n",
      "SELECT * FROM sql.city WHERE 1=1;\n",
      "SELECT * FROM sql.coffeeshop_sales WHERE 1=1;\n",
      "SELECT * FROM sql.customer WHERE 1=1;\n",
      "SELECT * FROM sql.driver WHERE 1=1;\n",
      "SELECT * FROM sql.shipment WHERE 1=1;\n"
     ]
    }
   ],
   "source": [
    "for table in tables_list:\n",
    "    try:\n",
    "        query_table = f'SELECT * FROM sql.{table} WHERE 1=1;'\n",
    "        print(query_table)\n",
    "        query_response = cli.dataset.post(database_id=2, query=query_table)\n",
    "        data_table = MetabaseTableParser.get_table(metabase_response=query_response)\n",
    "\n",
    "        dict_col_types = dict([(col['name'], col['base_type'].split('/')[1]) for col in data_table.cols])\n",
    "        con = sqlite3.connect(\"Sql.db\")\n",
    "\n",
    "        table_rows = ', '.join([key + ' ' + value for key, value in dict_col_types.items()])\n",
    "        sqlite_create_table = f'create table {table} ({table_rows});' \n",
    "        cur = con.cursor()\n",
    "        cur.execute(sqlite_create_table)\n",
    "\n",
    "        cur.executemany(f'INSERT INTO {table} VALUES({\", \".join(list(\"?\" * len(dict_col_types)))})', data_table.rows)\n",
    "        con.commit()  # Remember to commit the transaction after executing INSERT.\n",
    "    except Exception as ex:\n",
    "        print(ex)"
   ]
  },
  {
   "cell_type": "code",
   "execution_count": null,
   "id": "1c5ef2e2",
   "metadata": {},
   "outputs": [],
   "source": [
    "\"INSERT INTO books VALUES(?, ?, ?, ?, ?, ?, ?, ?, ?, ?)\""
   ]
  },
  {
   "cell_type": "code",
   "execution_count": 38,
   "id": "658ba4dd",
   "metadata": {},
   "outputs": [
    {
     "data": {
      "text/plain": [
       "'INSERT INTO books VALUES(?, ?, ?, ?, ?)'"
      ]
     },
     "execution_count": 38,
     "metadata": {},
     "output_type": "execute_result"
    }
   ],
   "source": [
    "f'INSERT INTO books VALUES({\", \".join(list(\"?\" * len(dict_col_types)))})'"
   ]
  },
  {
   "cell_type": "markdown",
   "id": "f2f082d2",
   "metadata": {},
   "source": [
    "В файле содержится первая строка таблицы books с наименованиями колонок"
   ]
  },
  {
   "cell_type": "code",
   "execution_count": null,
   "id": "0324860d",
   "metadata": {},
   "outputs": [],
   "source": [
    "# with open('query_result_2023-02-25T16_15_25.031777Z.csv', encoding='utf-8') as file:\n",
    "#     header = file.readline()\n",
    "    \n",
    "# теперь наименования колонок содержатся в переменной header"
   ]
  },
  {
   "cell_type": "markdown",
   "id": "980b7f54",
   "metadata": {},
   "source": [
    "Формирование текста запроса, для получения данных из таблицы books"
   ]
  },
  {
   "cell_type": "code",
   "execution_count": 5,
   "id": "7cf35e0d",
   "metadata": {},
   "outputs": [],
   "source": [
    "# books_sql = f'SELECT {header.strip()} FROM public.books WHERE 1=1;'"
   ]
  },
  {
   "cell_type": "code",
   "execution_count": 4,
   "id": "7adcefa0",
   "metadata": {},
   "outputs": [],
   "source": [
    "books_sql = f'SELECT * FROM public.books WHERE 1=1;'"
   ]
  },
  {
   "cell_type": "markdown",
   "id": "3c1e3213",
   "metadata": {},
   "source": [
    "Получение данных таблицы books из базы Skillfactory. id=2 - это id базы Skillfactory."
   ]
  },
  {
   "cell_type": "code",
   "execution_count": 10,
   "id": "6a85c173",
   "metadata": {},
   "outputs": [],
   "source": [
    "query_response = cli.dataset.post(database_id=2, query=books_sql)\n",
    "\n",
    "data_table = MetabaseTableParser.get_table(metabase_response=query_response) # парсинг полученных данных"
   ]
  },
  {
   "cell_type": "markdown",
   "id": "2eabb09c",
   "metadata": {},
   "source": [
    "Просмотре первых двух строк из полученных данных"
   ]
  },
  {
   "cell_type": "code",
   "execution_count": 29,
   "id": "7da8a071",
   "metadata": {},
   "outputs": [],
   "source": [
    "dict_col_types = dict([(col['name'], col['base_type'].split('/')[1]) for col in data_table.cols])"
   ]
  },
  {
   "cell_type": "code",
   "execution_count": 7,
   "id": "93160ff8",
   "metadata": {},
   "outputs": [
    {
     "data": {
      "text/plain": [
       "[[1975,\n",
       "  'Beowulf',\n",
       "  'Unknown, Seamus Heaney',\n",
       "  'en-US',\n",
       "  'Novice',\n",
       "  3.42,\n",
       "  155903,\n",
       "  'genre fiction',\n",
       "  'HarperCollins Publishers',\n",
       "  1],\n",
       " [1987,\n",
       "  'Batman: Year One',\n",
       "  \"Frank Miller, David Mazzucchelli, Richmond Lewis, Dennis O'Neil\",\n",
       "  'eng',\n",
       "  'Intermediate',\n",
       "  4.23,\n",
       "  145267,\n",
       "  'genre fiction',\n",
       "  'HarperCollins Publishers',\n",
       "  2]]"
      ]
     },
     "execution_count": 7,
     "metadata": {},
     "output_type": "execute_result"
    }
   ],
   "source": [
    "data_table.rows[0:2]"
   ]
  },
  {
   "cell_type": "code",
   "execution_count": 12,
   "id": "43ee9399",
   "metadata": {},
   "outputs": [
    {
     "data": {
      "text/plain": [
       "[{'display_name': 'publishing_year',\n",
       "  'source': 'native',\n",
       "  'field_ref': ['field', 'publishing_year', {'base-type': 'type/Integer'}],\n",
       "  'name': 'publishing_year',\n",
       "  'base_type': 'type/Integer',\n",
       "  'effective_type': 'type/Integer'},\n",
       " {'display_name': 'book_name',\n",
       "  'source': 'native',\n",
       "  'field_ref': ['field', 'book_name', {'base-type': 'type/Text'}],\n",
       "  'name': 'book_name',\n",
       "  'base_type': 'type/Text',\n",
       "  'effective_type': 'type/Text'},\n",
       " {'display_name': 'author',\n",
       "  'source': 'native',\n",
       "  'field_ref': ['field', 'author', {'base-type': 'type/Text'}],\n",
       "  'name': 'author',\n",
       "  'base_type': 'type/Text',\n",
       "  'effective_type': 'type/Text'},\n",
       " {'display_name': 'language_code',\n",
       "  'source': 'native',\n",
       "  'field_ref': ['field', 'language_code', {'base-type': 'type/Text'}],\n",
       "  'name': 'language_code',\n",
       "  'base_type': 'type/Text',\n",
       "  'effective_type': 'type/Text'},\n",
       " {'display_name': 'author_rating',\n",
       "  'source': 'native',\n",
       "  'field_ref': ['field', 'author_rating', {'base-type': 'type/Text'}],\n",
       "  'name': 'author_rating',\n",
       "  'base_type': 'type/Text',\n",
       "  'effective_type': 'type/Text'},\n",
       " {'display_name': 'book_average_rating',\n",
       "  'source': 'native',\n",
       "  'field_ref': ['field', 'book_average_rating', {'base-type': 'type/Decimal'}],\n",
       "  'name': 'book_average_rating',\n",
       "  'base_type': 'type/Decimal',\n",
       "  'effective_type': 'type/Decimal'},\n",
       " {'display_name': 'book_ratings_count',\n",
       "  'source': 'native',\n",
       "  'field_ref': ['field', 'book_ratings_count', {'base-type': 'type/Integer'}],\n",
       "  'name': 'book_ratings_count',\n",
       "  'base_type': 'type/Integer',\n",
       "  'effective_type': 'type/Integer'},\n",
       " {'display_name': 'genre',\n",
       "  'source': 'native',\n",
       "  'field_ref': ['field', 'genre', {'base-type': 'type/Text'}],\n",
       "  'name': 'genre',\n",
       "  'base_type': 'type/Text',\n",
       "  'effective_type': 'type/Text'},\n",
       " {'display_name': 'publisher',\n",
       "  'source': 'native',\n",
       "  'field_ref': ['field', 'publisher', {'base-type': 'type/Text'}],\n",
       "  'name': 'publisher',\n",
       "  'base_type': 'type/Text',\n",
       "  'effective_type': 'type/Text'},\n",
       " {'display_name': 'book_id',\n",
       "  'source': 'native',\n",
       "  'field_ref': ['field', 'book_id', {'base-type': 'type/Integer'}],\n",
       "  'name': 'book_id',\n",
       "  'base_type': 'type/Integer',\n",
       "  'effective_type': 'type/Integer'}]"
      ]
     },
     "execution_count": 12,
     "metadata": {},
     "output_type": "execute_result"
    }
   ],
   "source": [
    "data_table.cols"
   ]
  },
  {
   "cell_type": "markdown",
   "id": "2fa71681",
   "metadata": {},
   "source": [
    "Словарь пар: имя колонки и тип"
   ]
  },
  {
   "cell_type": "markdown",
   "id": "e484f034",
   "metadata": {},
   "source": [
    "Загрузка полученных данных в DataFrame Pandas для просмотра"
   ]
  },
  {
   "cell_type": "code",
   "execution_count": null,
   "id": "9d6003e1",
   "metadata": {},
   "outputs": [],
   "source": [
    "import pandas as pd\n",
    "books_header = header.strip().split(',')\n",
    "books = pd.DataFrame(data_table.rows)\n",
    "books.columns = books_header\n",
    "books.head()"
   ]
  },
  {
   "cell_type": "markdown",
   "id": "844608c1",
   "metadata": {},
   "source": [
    "Импорт библиотеки sqlite3 и создание соединения (и файла) базы данных с именем Skkillfactory.db"
   ]
  },
  {
   "cell_type": "code",
   "execution_count": null,
   "id": "47d0f5af",
   "metadata": {},
   "outputs": [],
   "source": [
    "import sqlite3\n",
    "con = sqlite3.connect(\"Skillfactory.db\")"
   ]
  },
  {
   "cell_type": "markdown",
   "id": "c1b8e255",
   "metadata": {},
   "source": [
    "Формирование текста запроса для создания таблицы books"
   ]
  },
  {
   "cell_type": "code",
   "execution_count": null,
   "id": "d3d70994",
   "metadata": {},
   "outputs": [],
   "source": [
    "sqlite_create_table = \"\"\"create table books (\n",
    "                                        publishing_year int,\n",
    "                                        book_name,\n",
    "                                        author,\n",
    "                                        language_code,\n",
    "                                        author_rating,\n",
    "                                        book_average_rating decimal(5, 2),\n",
    "                                        book_ratings_count int,\n",
    "                                        genre,\n",
    "                                        publisher,\n",
    "                                        book_id id                        \n",
    "                                        );\"\"\""
   ]
  },
  {
   "cell_type": "markdown",
   "id": "96435c67",
   "metadata": {},
   "source": [
    "Создание таблицы books"
   ]
  },
  {
   "cell_type": "code",
   "execution_count": null,
   "id": "294e29b6",
   "metadata": {},
   "outputs": [],
   "source": [
    "cur = con.cursor()\n",
    "cur.execute(sqlite_create_table)"
   ]
  },
  {
   "cell_type": "markdown",
   "id": "2c115370",
   "metadata": {},
   "source": [
    "Проверка, что таблица с именем, начинающемся с books, создана"
   ]
  },
  {
   "cell_type": "code",
   "execution_count": null,
   "id": "b8041ff7",
   "metadata": {},
   "outputs": [],
   "source": [
    "res = cur.execute(\"SELECT name FROM sqlite_master where name like 'books%'\")\n",
    "res.fetchall()"
   ]
  },
  {
   "cell_type": "markdown",
   "id": "e775fd2c",
   "metadata": {},
   "source": [
    "Загрузка данных в созданную таблицу, количество \"?\" соответствует количеству колонок"
   ]
  },
  {
   "cell_type": "code",
   "execution_count": null,
   "id": "b34d1898",
   "metadata": {},
   "outputs": [],
   "source": [
    "cur.executemany(\"INSERT INTO books VALUES(?, ?, ?, ?, ?, ?, ?, ?, ?, ?)\", data_table.rows)\n",
    "con.commit()  # Remember to commit the transaction after executing INSERT."
   ]
  },
  {
   "cell_type": "code",
   "execution_count": null,
   "id": "f849fe66",
   "metadata": {},
   "outputs": [],
   "source": [
    "Создание представления с именем my_view, текст запроса продиктован условиями задачи"
   ]
  },
  {
   "cell_type": "code",
   "execution_count": null,
   "id": "dc491c6d",
   "metadata": {},
   "outputs": [],
   "source": [
    "sqlit_create_view = '''\n",
    "                    create view my_view as\n",
    "                    SELECT\n",
    "                        author,\n",
    "                        count(book_id) as CountBooks,\n",
    "                        max(publishing_year) as MaxPublishingYear,\n",
    "                        count(distinct genre) as CountGenres,\n",
    "                        count(DISTINCT publisher) as CountPublisher\n",
    "                    FROM\n",
    "                        books\n",
    "                    GROUP by\n",
    "                        author\n",
    "                    ORDER by author\n",
    "                    '''\n",
    "\n",
    "cur.execute(sqlit_create_view)"
   ]
  }
 ],
 "metadata": {
  "kernelspec": {
   "display_name": "Python 3 (ipykernel)",
   "language": "python",
   "name": "python3"
  },
  "language_info": {
   "codemirror_mode": {
    "name": "ipython",
    "version": 3
   },
   "file_extension": ".py",
   "mimetype": "text/x-python",
   "name": "python",
   "nbconvert_exporter": "python",
   "pygments_lexer": "ipython3",
   "version": "3.9.12"
  }
 },
 "nbformat": 4,
 "nbformat_minor": 5
}
